{
 "cells": [
  {
   "cell_type": "code",
   "execution_count": 1,
   "id": "2ec9fdd3",
   "metadata": {},
   "outputs": [
    {
     "name": "stdout",
     "output_type": "stream",
     "text": [
      "Writing dalle.py\n"
     ]
    }
   ],
   "source": [
    "%%writefile dalle.py\n",
    "\n",
    "import openai\n",
    "import requests\n",
    "import streamlit as st\n",
    "from io import BytesIO\n",
    "\n",
    "def generate_dalle_image(api_key, image_bytes, prompt, size=512):\n",
    "    # Set OpenAI API key\n",
    "    openai.api_key = api_key\n",
    "\n",
    "    # Resize image\n",
    "    image_data = BytesIO(image_bytes)\n",
    "    response = requests.post(\n",
    "        \"https://api.openai.com/v1/images/generations\",\n",
    "        headers={\n",
    "            \"Content-Type\": \"application/json\",\n",
    "            \"Authorization\": f\"Bearer {api_key}\",\n",
    "        },\n",
    "        json={\n",
    "            \"model\": \"image-alpha-001\",\n",
    "            \"prompt\": prompt,\n",
    "            \"num_images\": 1,\n",
    "            \"size\": size,\n",
    "            \"response_format\": \"url\",\n",
    "        },\n",
    "        params={\"n\": 1},\n",
    "    )\n",
    "    response.raise_for_status()\n",
    "    response_data = response.json()[\"data\"][0]\n",
    "    image_url = response_data[\"url\"]\n",
    "\n",
    "    # Download image\n",
    "    response = requests.get(image_url)\n",
    "    image_bytes = BytesIO(response.content).read()\n",
    "\n",
    "    return image_bytes\n",
    "\n",
    "def main():\n",
    "    # Set page title and favicon\n",
    "    st.set_page_config(page_title=\"DALL-E Image Generator\", page_icon=\":camera:\")\n",
    "\n",
    "    # Prompt user to enter API key\n",
    "    api_key = st.text_input(\"Enter your OpenAI API key\", type=\"password\")\n",
    "\n",
    "    # Prompt user to upload image\n",
    "    image_file = st.file_uploader(\"Upload an image file\", type=[\"jpg\", \"jpeg\", \"png\"])\n",
    "\n",
    "    # Prompt user to enter prompt\n",
    "    prompt = st.text_area(\"Enter a prompt to generate an image\")\n",
    "\n",
    "    # Generate image if all inputs are provided\n",
    "    if api_key and image_file and prompt:\n",
    "        # Read image bytes\n",
    "        image_bytes = image_file.read()\n",
    "\n",
    "        # Generate DALL-E image\n",
    "        with st.spinner(\"Generating image...\"):\n",
    "            dalle_image = generate_dalle_image(api_key, image_bytes, prompt)\n",
    "\n",
    "        # Display DALL-E image\n",
    "        st.image(dalle_image, caption=\"Generated Image\")\n",
    "\n",
    "        # Allow user to download DALL-E image\n",
    "        st.download_button(\n",
    "            label=\"Download Image\",\n",
    "            data=dalle_image,\n",
    "            file_name=\"generated_image.png\",\n",
    "            mime=\"image/png\",\n",
    "        )\n",
    "\n",
    "if __name__ == \"__main__\":\n",
    "    main()"
   ]
  },
  {
   "cell_type": "code",
   "execution_count": null,
   "id": "e386825e",
   "metadata": {},
   "outputs": [],
   "source": []
  }
 ],
 "metadata": {
  "kernelspec": {
   "display_name": "Python 3 (ipykernel)",
   "language": "python",
   "name": "python3"
  },
  "language_info": {
   "codemirror_mode": {
    "name": "ipython",
    "version": 3
   },
   "file_extension": ".py",
   "mimetype": "text/x-python",
   "name": "python",
   "nbconvert_exporter": "python",
   "pygments_lexer": "ipython3",
   "version": "3.9.13"
  },
  "varInspector": {
   "cols": {
    "lenName": 16,
    "lenType": 16,
    "lenVar": 40
   },
   "kernels_config": {
    "python": {
     "delete_cmd_postfix": "",
     "delete_cmd_prefix": "del ",
     "library": "var_list.py",
     "varRefreshCmd": "print(var_dic_list())"
    },
    "r": {
     "delete_cmd_postfix": ") ",
     "delete_cmd_prefix": "rm(",
     "library": "var_list.r",
     "varRefreshCmd": "cat(var_dic_list()) "
    }
   },
   "types_to_exclude": [
    "module",
    "function",
    "builtin_function_or_method",
    "instance",
    "_Feature"
   ],
   "window_display": false
  }
 },
 "nbformat": 4,
 "nbformat_minor": 5
}
