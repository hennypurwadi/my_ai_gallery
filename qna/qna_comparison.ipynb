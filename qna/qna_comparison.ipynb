{
 "cells": [
  {
   "cell_type": "markdown",
   "id": "de7b33e7",
   "metadata": {},
   "source": [
    "# Question Answering using pre-trained Transformers"
   ]
  },
  {
   "cell_type": "markdown",
   "id": "f0296bfb",
   "metadata": {},
   "source": [
    "We will compare few candidates of question-answering models  models:\n",
    "\n",
    "mrm8488/bert-tiny-5-finetuned-squadv2, distilbert-base-cased-distilled-squad, bert-large-uncased-whole-word-masking-finetuned-squad (license: Open source, Apache 2.0 0\n",
    "https://huggingface.co/distilbert-base-cased-distilled-squad#model-details"
   ]
  },
  {
   "cell_type": "code",
   "execution_count": 10,
   "id": "7ebea3dc",
   "metadata": {},
   "outputs": [],
   "source": [
    "#!pip install transformers"
   ]
  },
  {
   "cell_type": "code",
   "execution_count": 6,
   "id": "62093b0d",
   "metadata": {},
   "outputs": [],
   "source": [
    "import PyPDF2\n",
    "from transformers import pipeline\n",
    "\n",
    "# Define a function to load the PDF file and convert it to text\n",
    "def load_pdf(file_path):\n",
    "    pdfFileObj = open(file_path, 'rb')\n",
    "    pdfReader = PyPDF2.PdfReader(pdfFileObj)\n",
    "    text = \"\"\n",
    "    for page in pdfReader.pages:\n",
    "        text += page.extract_text()\n",
    "    pdfFileObj.close()\n",
    "    return text\n",
    "\n",
    "# Define a function to ask and answer questions\n",
    "def ask_question(question, text, qa):\n",
    "    result = qa(question=question, context=text)\n",
    "    answer = result[\"answer\"]\n",
    "    print(f\"Q: {question}\\nA: {answer}\\n\")\n",
    "\n",
    "# Define a function to ask a list of questions\n",
    "def question_list(questions, text, qa):\n",
    "    for question in questions:\n",
    "        ask_question(question, text, qa)\n",
    "\n",
    "file_path = 'Male Demand.pdf'\n",
    "text = load_pdf(file_path)\n",
    "\n",
    "questions = [\n",
    "    \"What is the settlement agreement about?\",\n",
    "    \"When was the Date of loss:?\",\n",
    "    \"Who are Our Client?\",\n",
    "    \"What is Our Client's Gender?\",\n",
    "    \"What is Our Client's Date of Birth?\",\n",
    "    \"Who are the NAME of patient in MEDICAL TREATMENT receipt?\",\n",
    "    \"When was the earliest Date of Treatment?\",\n",
    "    \"Did date of Treatments more than 30 days after Date of Loss?\",\n",
    "    \"What are the most severe damage Our client's have?\",\n",
    "    \"What are the mental, emotions, and other non-physical damage Our Client's have?\"]"
   ]
  },
  {
   "cell_type": "markdown",
   "id": "915fba1a",
   "metadata": {},
   "source": [
    "# distilbert-base-cased-distilled-squad"
   ]
  },
  {
   "cell_type": "code",
   "execution_count": 2,
   "id": "eb8ade09",
   "metadata": {},
   "outputs": [
    {
     "name": "stdout",
     "output_type": "stream",
     "text": [
      "Q: What is the settlement agreement about?\n",
      "A: Mr. Rolax ’s claim\n",
      "\n",
      "Q: When was the Date of loss:?\n",
      "A: July 30, 2021\n",
      "\n",
      "Q: Who are Our Client?\n",
      "A: Ronald  Rolax\n",
      "\n",
      "Q: What is Our Client's Gender?\n",
      "A: Male\n",
      "\n",
      "Q: What is Our Client's Date of Birth?\n",
      "A: 01/01/1970\n",
      "\n",
      "Q: Who are the NAME of patient in MEDICAL TREATMENT receipt?\n",
      "A: Carolyn Downs Family Medical Clinic\n",
      "\n",
      "Q: When was the earliest Date of Treatment?\n",
      "A: March 8, 2023\n",
      "\n",
      "Q: Did date of Treatments more than 30 days after Date of Loss?\n",
      "A: March 8, 2023\n",
      "\n",
      "Q: What are the most severe damage Our client's have?\n",
      "A: right -sided chest wall pain, left shoulder \n",
      "pain, and left flank pain\n",
      "\n",
      "Q: What are the mental, emotions, and other non-physical damage Our Client's have?\n",
      "A: anxiety and worry\n",
      "\n"
     ]
    }
   ],
   "source": [
    "choose_model = \"distilbert-base-cased-distilled-squad\"\n",
    "\n",
    "qa = pipeline(\"question-answering\", model=choose_model)\n",
    "question_list(questions, text, qa)"
   ]
  },
  {
   "cell_type": "markdown",
   "id": "0ffa6984",
   "metadata": {},
   "source": [
    "## bert-large-uncased-whole-word-masking-finetuned-squad"
   ]
  },
  {
   "cell_type": "code",
   "execution_count": 3,
   "id": "c3ce80e5",
   "metadata": {},
   "outputs": [
    {
     "name": "stdout",
     "output_type": "stream",
     "text": [
      "Q: What is the settlement agreement about?\n",
      "A: Mr. Rolax ’s claim\n",
      "\n",
      "Q: When was the Date of loss:?\n",
      "A: July 30, 2021\n",
      "\n",
      "Q: Who are Our Client?\n",
      "A: Ronald  Rolax\n",
      "\n",
      "Q: What is Our Client's Gender?\n",
      "A: Male\n",
      "\n",
      "Q: What is Our Client's Date of Birth?\n",
      "A: 01/01/1970\n",
      "\n",
      "Q: Who are the NAME of patient in MEDICAL TREATMENT receipt?\n",
      "A: Ronald  Rolax\n",
      "\n",
      "Q: When was the earliest Date of Treatment?\n",
      "A: July 30, 2021\n",
      "\n",
      "Q: Did date of Treatments more than 30 days after Date of Loss?\n",
      "A: 01/17/22 – 10/17/22\n",
      "\n",
      "Q: What are the most severe damage Our client's have?\n",
      "A: disc protrusion with annular tear\n",
      "\n",
      "Q: What are the mental, emotions, and other non-physical damage Our Client's have?\n",
      "A: damages for emotional distress and economic damages\n",
      "\n"
     ]
    }
   ],
   "source": [
    "choose_model = \"bert-large-uncased-whole-word-masking-finetuned-squad\"\n",
    "\n",
    "qa = pipeline(\"question-answering\", model=choose_model)\n",
    "question_list(questions, text, qa)"
   ]
  },
  {
   "cell_type": "markdown",
   "id": "04ea43fe",
   "metadata": {},
   "source": [
    "## mrm8488/bert-tiny-5-finetuned-squadv2"
   ]
  },
  {
   "cell_type": "code",
   "execution_count": 8,
   "id": "a7d5d86c",
   "metadata": {},
   "outputs": [
    {
     "name": "stdout",
     "output_type": "stream",
     "text": [
      "Q: What is the settlement agreement about?\n",
      "A: Mr. Rolax ’s claim\n",
      "\n",
      "Q: When was the Date of loss:?\n",
      "A: July 30, 2021\n",
      "\n",
      "Q: Who are Our Client?\n",
      "A: Ronald  Rolax\n",
      "\n",
      "Q: What is Our Client's Gender?\n",
      "A: cervical pain\n",
      "\n",
      "Q: What is Our Client's Date of Birth?\n",
      "A: October \n",
      "17, 2022\n",
      "\n",
      "Q: Who are the NAME of patient in MEDICAL TREATMENT receipt?\n",
      "A: annular tear\n",
      "\n",
      "Q: When was the earliest Date of Treatment?\n",
      "A: 07/30/21\n",
      "\n",
      "Q: Did date of Treatments more than 30 days after Date of Loss?\n",
      "A: July 30, 2021\n",
      "\n",
      "Q: What are the most severe damage Our client's have?\n",
      "A: proximately caused, as well as the \n",
      "damages documented herein\n",
      "\n",
      "Q: What are the mental, emotions, and other non-physical damage Our Client's have?\n",
      "A: compensable\n",
      "\n"
     ]
    }
   ],
   "source": [
    "choose_model = \"mrm8488/bert-tiny-5-finetuned-squadv2\"\n",
    "\n",
    "qa = pipeline(\"question-answering\", model=choose_model)\n",
    "question_list(questions, text, qa)"
   ]
  },
  {
   "cell_type": "markdown",
   "id": "963688d8",
   "metadata": {},
   "source": [
    "# Deploy Transformer model to Streamlit Cloud\n",
    "link: https://hennypur-qna-pdf-qa-yy18t4.streamlit.app/"
   ]
  },
  {
   "cell_type": "code",
   "execution_count": 35,
   "id": "92f89248",
   "metadata": {},
   "outputs": [
    {
     "name": "stdout",
     "output_type": "stream",
     "text": [
      "Overwriting QA.py\n"
     ]
    }
   ],
   "source": [
    "%%writefile QA.py\n",
    "\n",
    "import streamlit as st\n",
    "from transformers import pipeline\n",
    "from PyPDF2 import PdfReader\n",
    "\n",
    "def load_pdf(file):\n",
    "    pdf_reader = PdfReader(file)\n",
    "    num_pages = len(pdf_reader.pages)\n",
    "    text = \"\"\n",
    "    for page in range(num_pages):\n",
    "        page_obj = pdf_reader.pages[page]\n",
    "        text += page_obj.extract_text()\n",
    "    return text\n",
    "\n",
    "def main():\n",
    "    # Prompt user to upload a PDF file\n",
    "    file = st.file_uploader(\"Upload a PDF file\", type=\"pdf\")\n",
    "\n",
    "    # Generate summary if file is uploaded\n",
    "    if file is not None:\n",
    "        # Read PDF content\n",
    "        with st.spinner('Extracting text from PDF...'):\n",
    "            text = load_pdf(file)\n",
    "\n",
    "        # Define question answering pipeline\n",
    "        choose_model = \"distilbert-base-cased-distilled-squad\"\n",
    "        with st.spinner('Loading model...'):\n",
    "            qa = pipeline(\"question-answering\", model=choose_model)\n",
    "\n",
    "        # Define a function to ask and answer questions\n",
    "        def ask_question(question, text, qa):\n",
    "            result = qa(question=question, context=text)\n",
    "            answer = result[\"answer\"]\n",
    "            return answer\n",
    "\n",
    "        # Define a list of example questions\n",
    "        questions = [\n",
    "            \"What are the most severe damage Our client's have?\"\n",
    "        ]\n",
    "\n",
    "        # Display example questions and answers\n",
    "        st.write(\"Here are some example QnA of the PDF content:\")\n",
    "        with st.spinner('Answering example questions...'):\n",
    "            for question in questions:\n",
    "                answer = ask_question(question, text, qa)\n",
    "                st.write(f\"Q: {question}\")\n",
    "                st.write(f\"A: {answer}\\n\")\n",
    "\n",
    "        # Allow user to input custom question\n",
    "        st.write(\"Enter your question below:\")\n",
    "        user_question = st.text_input(\"\", \"\")\n",
    "        if user_question:\n",
    "            with st.spinner('Answering your question...'):\n",
    "                answer = ask_question(user_question, text, qa)\n",
    "                st.write(f\"Q: {user_question}\")\n",
    "                st.write(f\"A: {answer}\\n\")\n",
    "\n",
    "\n",
    "if __name__ == \"__main__\":\n",
    "    st.set_page_config(page_title='PDF QnA', page_icon=':books:')\n",
    "    st.title('PDF QnA')\n",
    "    st.write('This app allows you to ask questions about a PDF document.')\n",
    "    main()\n"
   ]
  },
  {
   "cell_type": "markdown",
   "id": "469fe1b2",
   "metadata": {},
   "source": [
    "# Q&A using GPT-3 with paid token"
   ]
  },
  {
   "cell_type": "code",
   "execution_count": 10,
   "id": "872c69ae",
   "metadata": {},
   "outputs": [
    {
     "name": "stdout",
     "output_type": "stream",
     "text": [
      "Question:who is our client?\n",
      "Our client is Ronald Rolax.\n"
     ]
    }
   ],
   "source": [
    "import openai\n",
    "import numpy as np\n",
    "import pandas as pd\n",
    "import pickle\n",
    "import PyPDF2\n",
    "from PyPDF2 import PdfReader\n",
    "\n",
    "COMPLETIONS_MODEL = \"text-davinci-003\"\n",
    "\n",
    "with open('api_key.txt', 'r') as f:\n",
    "    api_key = f.read().strip()\n",
    "openai.api_key = api_key\n",
    "\n",
    "prompt = text\n",
    "question = input(\"Question:\")\n",
    "\n",
    "# Generate answer for user inputs a question\n",
    "if question:\n",
    "    prompt_with_question= f\"{prompt}\\n\\nQuestion: {question}\\nA:\"\n",
    "    response = openai.Completion.create(\n",
    "        prompt=prompt_with_question,\n",
    "        temperature=0.5,\n",
    "        max_tokens=512,\n",
    "        top_p=1,\n",
    "        frequency_penalty=0,\n",
    "        presence_penalty=0,\n",
    "        model=\"text-davinci-003\",\n",
    "        stop=[\"Q:\"],\n",
    "        timeout=60  # wait for 60 seconds before timing out\n",
    "    )\n",
    "\n",
    "    # Extract answer\n",
    "    answer = response.choices[0].text.strip()\n",
    "    print(answer)"
   ]
  },
  {
   "cell_type": "code",
   "execution_count": 142,
   "id": "e6f82539",
   "metadata": {},
   "outputs": [
    {
     "name": "stdout",
     "output_type": "stream",
     "text": [
      "Q: Who is Our Client's name, Gender, and date of birth?\n",
      "A: : Our Client's name is Ronald Rolax, Gender is Male, Date of Birth is 01/01/1970.\n",
      "Q: When was the Date of loss?\n",
      "A: : July 30, 2021.\n",
      "Q: Who is the patient's name in Medical Treatment?\n",
      "A: : Ms. Holmes\n",
      "Q: Does the patient's name in Medical Treatment the same name as Our Client? If different, answer including note as suspicious.\n",
      "A: : No, the patient's name in Medical Treatment is Ms. Holmes, which is different from Our Client's name, Ronald Rolax. Note: This is suspicious.\n",
      "Q: Was date of Medical treatment still within 30 days after Date of Loss? If no, answer including note as suspicious.\n",
      "A: : No, the date of medical treatment was not within 30 days after the Date of Loss. Note: This is suspicious.\n",
      "Q: What is the diagnosis of our client?\n",
      "A: : C3-C4 disc protrusion with annular tear (M50.80), tension headaches (R51), cervical sprain/strain (S13.4XXA), thoracic sprain/strain (S23.3XXA), lumbar sprain/strain (S33.5XXA), left shoulder/arm sprain/strain (S46.912A), muscle spasms (M62.838), left hip pain (M25.552), and discogenic cervical pain (M54.2).\n",
      "Q: What is the prognosis of our client?\n",
      "A: : The prognosis of our client is that he continues to have good and bad days due to flare ups of pain. Such unexpected halting pain robs him of the enjoyment of life he had prior to the accident of July 30, 2021. Caring for his daily activities, many times can only be accomplished under duress. The once normal and commonplace activities before the accident are now attempted with concerns of exacerbating his injuries. The determination of Mr. Rolax’s functions in caring for his daily activities is the intensity and frequency of the painful flare ups. Having to go through life with constant awareness that anything he may do, would inflame this injury, deprives him of the pleasure of life he once enjoyed.\n",
      "Q: What are the mental, emotions, and other non-physical damage Our Client's suffer?\n",
      "A: : Our Client, Ronald Rolax, is entitled to recover damages for all personal injuries caused by this accident, including damages for emotional distress and economic damages. He is entitled to recover the reasonable value of time, earnings, or salaries lost and the present value of reasonable future losses. Loss of earning capacity is a permanent diminution of ability to earn a living owing to disability as opposed to the temporary inability to continue in a prior occupation. Ronald Rolax may also recover for pain and suffering which compensates for the physical and mental discomfort caused by the injury. Negligently inflicted mental distress is compensable, as is distress about the fear of the future consequences of an injury. Loss of ability to enjoy life is a proper element of damages, and if there are special artistic or athletic skills, separate or added distress compensation is appropriate.\n",
      "Q: What else you find suspicious?\n",
      "A: : I don't know.\n"
     ]
    }
   ],
   "source": [
    "import openai\n",
    "import PyPDF2\n",
    "\n",
    "# Define a function to load the PDF file and convert it to text\n",
    "def load_pdf(file_path):\n",
    "    pdfFileObj = open(file_path, 'rb')\n",
    "    pdfReader = PyPDF2.PdfReader(pdfFileObj)\n",
    "    text = \"\"\n",
    "    for page in pdfReader.pages:\n",
    "        text += page.extract_text()\n",
    "    pdfFileObj.close()\n",
    "    return text\n",
    "\n",
    "# Load the PDF file and convert it to text\n",
    "file_path = 'Male Demand.pdf'\n",
    "text = load_pdf(file_path)\n",
    "\n",
    "# Set API key as a secret\n",
    "with open('api_key.txt', 'r') as f:\n",
    "    api_key = f.read().strip()\n",
    "openai.api_key = api_key\n",
    "\n",
    "# Define the prompt to be used\n",
    "prompt = f\"Answer the following questions as truthfully as possible using the provided text. If the answer is not contained within the text below, say 'I don't know':\\n\\n{text}\\n\\nQ: Who is Our Client's name, Gender, and date of birth? When was the Date of loss? Does the patient's name in Medical Treatmant the same name as Our Client? If different, answer including note as suspicious. Was date of Medical treatment still within 30 days after Date of Loss? If no, answer including note as suspicious. What is the diagnosis of our client? What is the prognosis of our client? What are the mental, emotions, and other non-physical damage Our Client's suffer? What else you find suspicious?\"\n",
    "\n",
    "# Set the questions to be asked\n",
    "questions = [\n",
    "    \"Who is Our Client's name, Gender, and date of birth?\",\n",
    "    \"When was the Date of loss?\",\n",
    "    \"Who is the patient's name in Medical Treatment?\",\n",
    "    \"Does the patient's name in Medical Treatment the same name as Our Client? If different, answer including note as suspicious.\",\n",
    "    \"Was date of Medical treatment still within 30 days after Date of Loss? If no, answer including note as suspicious.\",\n",
    "    \"What is the diagnosis of our client?\",\n",
    "    \"What is the prognosis of our client?\",\n",
    "    \"What are the mental, emotions, and other non-physical damage Our Client's suffer?\",\n",
    "    \"What else you find suspicious?\"\n",
    "]\n",
    "\n",
    "# Ask the questions using OpenAI's GPT-3 model\n",
    "for question in questions:\n",
    "    example_prompt_with_question = f\"{prompt}\\n\\nQ: {question}\\nA\"\n",
    "    example_response = openai.Completion.create(\n",
    "        prompt=example_prompt_with_question,\n",
    "        temperature=0.5,\n",
    "        max_tokens=512,\n",
    "        top_p=1,\n",
    "        frequency_penalty=0,\n",
    "        presence_penalty=0,\n",
    "        model=\"text-davinci-003\",\n",
    "        stop=[\"Q:\", \"\\n\"],\n",
    "    )\n",
    "\n",
    "    answer = example_response.choices[0].text.strip()\n",
    "    print(f\"Q: {question}\\nA: {answer}\")"
   ]
  },
  {
   "cell_type": "markdown",
   "id": "b1eab22f",
   "metadata": {},
   "source": [
    "# Deploy QnA GPT-3 to Streamlit Cloud\n",
    "\n",
    "link: https://hennypur-qa-plus-qa-gpt3-75yq4o.streamlit.app/"
   ]
  },
  {
   "cell_type": "code",
   "execution_count": 2,
   "id": "f3eebf1b",
   "metadata": {},
   "outputs": [
    {
     "name": "stdout",
     "output_type": "stream",
     "text": [
      "Writing QA_GPT.py\n"
     ]
    }
   ],
   "source": [
    "%%writefile QA_GPT.py\n",
    "\n",
    "import openai\n",
    "import streamlit as st\n",
    "from PyPDF2 import PdfReader\n",
    "\n",
    "def load_pdf(file):\n",
    "    pdf_reader = PdfReader(file)\n",
    "    num_pages = len(pdf_reader.pages)\n",
    "    text = \"\"\n",
    "    for page in range(num_pages):\n",
    "        page_obj = pdf_reader.pages[page]\n",
    "        text += page_obj.extract_text()\n",
    "    return text\n",
    "\n",
    "def main():    \n",
    "    # Set API key as a secret\n",
    "    with open('api_key.txt', 'r') as f:\n",
    "        api_key = f.read().strip()\n",
    "    openai.api_key = api_key \n",
    "\n",
    "    #openai.api_key = input(\"Enter your OpenAI API key: \")\n",
    "    \n",
    "    # Prompt user to upload a PDF file\n",
    "    file = st.file_uploader(\"Upload a PDF file\", type=\"pdf\")\n",
    "\n",
    "    # Generate summary and example QnAs if file is uploaded\n",
    "    if file is not None:\n",
    "        # Read PDF content\n",
    "        with st.spinner('Extracting text from PDF...'):\n",
    "            text = load_pdf(file)\n",
    "\n",
    "        # Assign PDF content to prompt var\n",
    "        prompt = text\n",
    "\n",
    "        # Set up Streamlit app \n",
    "        st.title(\"Ask a Question about Pdf Document\")\n",
    "\n",
    "        # Prompt user to enter a question\n",
    "        question = st.text_input(\"What do you want to know about it?\")\n",
    "\n",
    "        # Generate answer if user inputs a question\n",
    "        if question:\n",
    "            prompt = f\"Answer the question as truthfully as possible using the provided text. If the answer is not contained within the text below, say 'I don't know'.\\n\\n{prompt}\"\n",
    "            prompt_with_question= f\"{prompt}\\n\\nQuestion: {question}\\nA\"\n",
    "            response = openai.Completion.create(\n",
    "                prompt=prompt_with_question,\n",
    "                temperature=0.0,\n",
    "                max_tokens=1024,\n",
    "                top_p=1,\n",
    "                frequency_penalty=0,\n",
    "                presence_penalty=0,\n",
    "                model=\"text-davinci-003\",\n",
    "                stop=[\"Q:\", \"\\n\"],\n",
    "                timeout=600  # wait for 600 seconds before timing out\n",
    "            )\n",
    "\n",
    "            # Extract answer from OpenAI API response\n",
    "            answer = response.choices[0].text.strip()\n",
    "\n",
    "            # Output answer or \"I don't know\" if answer is empty\n",
    "            answer_output = answer.strip() if answer.strip() != '' else \"I don't know\"\n",
    "            st.write(f\"Q: {question}\")\n",
    "            st.write(f\"A: {answer_output}\\n\")\n",
    "                    \n",
    "if __name__ == \"__main__\":\n",
    "    st.set_page_config(page_title='PDF Question and Answer', page_icon=':books:')\n",
    "    st.title('PDF Question and Answer')\n",
    "    st.write('App to answer your questions about PDF document.')\n",
    "    main()\n"
   ]
  },
  {
   "cell_type": "code",
   "execution_count": null,
   "id": "2b3e0201",
   "metadata": {},
   "outputs": [],
   "source": []
  }
 ],
 "metadata": {
  "kernelspec": {
   "display_name": "Python 3 (ipykernel)",
   "language": "python",
   "name": "python3"
  },
  "language_info": {
   "codemirror_mode": {
    "name": "ipython",
    "version": 3
   },
   "file_extension": ".py",
   "mimetype": "text/x-python",
   "name": "python",
   "nbconvert_exporter": "python",
   "pygments_lexer": "ipython3",
   "version": "3.9.13"
  },
  "varInspector": {
   "cols": {
    "lenName": 16,
    "lenType": 16,
    "lenVar": 40
   },
   "kernels_config": {
    "python": {
     "delete_cmd_postfix": "",
     "delete_cmd_prefix": "del ",
     "library": "var_list.py",
     "varRefreshCmd": "print(var_dic_list())"
    },
    "r": {
     "delete_cmd_postfix": ") ",
     "delete_cmd_prefix": "rm(",
     "library": "var_list.r",
     "varRefreshCmd": "cat(var_dic_list()) "
    }
   },
   "types_to_exclude": [
    "module",
    "function",
    "builtin_function_or_method",
    "instance",
    "_Feature"
   ],
   "window_display": false
  }
 },
 "nbformat": 4,
 "nbformat_minor": 5
}
