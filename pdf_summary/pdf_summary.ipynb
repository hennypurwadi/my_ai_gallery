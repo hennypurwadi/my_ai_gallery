{
 "cells": [
  {
   "cell_type": "code",
   "execution_count": null,
   "id": "6f0e59b5",
   "metadata": {},
   "outputs": [],
   "source": [
    "#!pip install openai"
   ]
  },
  {
   "cell_type": "code",
   "execution_count": null,
   "id": "8b95ec2f",
   "metadata": {},
   "outputs": [],
   "source": [
    "#!pip install PyPDF2"
   ]
  },
  {
   "cell_type": "code",
   "execution_count": 4,
   "id": "2450563c",
   "metadata": {},
   "outputs": [],
   "source": [
    "#!pip install openai --upgrade"
   ]
  },
  {
   "cell_type": "code",
   "execution_count": 44,
   "id": "e1320ffb",
   "metadata": {},
   "outputs": [],
   "source": [
    "#pip install --upgrade pip"
   ]
  },
  {
   "cell_type": "markdown",
   "id": "837b500d",
   "metadata": {},
   "source": [
    "# Summarizer with Open AI GPT-3"
   ]
  },
  {
   "cell_type": "code",
   "execution_count": 6,
   "id": "146679f4",
   "metadata": {},
   "outputs": [
    {
     "name": "stdout",
     "output_type": "stream",
     "text": [
      "In this settlement offer, the client's name is Ronald  Rolax  and the name in medical treatment is Ms. Holmes. They are not the same names, indicating that this is suspicious. Ronald  Rolax  is the client who was injured in the accident of July 30, 2021 and is seeking compensation for his injuries. The medical treatment was provided by Swedish  Medical Center  and Carolyn Downs Family Medical Clinic. The medical treatment included diagnosis of closed fracture of tuft of distal phalanx of right thumb and rib contusion, acute pain of right shoulder, injury of back of neck and left hand, acute bilateral low back pain with right-sided sciatica, acute nonintractable headache, closed nondisplaced fracture of distal phalanx of thumb, anxiety, and panic attack. The total incurred medical expenses are $. Ronald  Rolax  is also entitled to recover damages for all personal injuries caused by this accident, including damages for emotional distress and economic damages. The settlement proposal is for $ in full and final settlement of Mr. Rolax's claim.\n"
     ]
    }
   ],
   "source": [
    "import openai\n",
    "import numpy as np\n",
    "import pandas as pd\n",
    "import pickle\n",
    "import PyPDF2\n",
    "from PyPDF2 import PdfReader\n",
    "#import pprint\n",
    "\n",
    "COMPLETIONS_MODEL = \"text-davinci-003\"\n",
    "\n",
    "with open('api_key.txt', 'r') as f:\n",
    "    api_key = f.read().strip()\n",
    "openai.api_key = api_key\n",
    "\n",
    "path = 'Male Demand.pdf'\n",
    "\n",
    "with open(path, 'rb') as f:\n",
    "    # Read PDF content\n",
    "    pdf_reader = PdfReader(f)\n",
    "    num_pages = len(pdf_reader.pages)\n",
    "    text = ''\n",
    "    for page in range(num_pages):\n",
    "        page_obj = pdf_reader.pages[page]\n",
    "        text += page_obj.extract_text()\n",
    "\n",
    "# Assign PDF content to prompt var\n",
    "prompt = f\"Summarize this in 350 words, including Who is the client's name? Who is the name in medical treatment? +\\\n",
    "Are they the same names? If different names, indicate it as suspicious: {text}\" \n",
    "\n",
    "response = openai.Completion.create(\n",
    "    engine=COMPLETIONS_MODEL,\n",
    "    prompt=prompt,\n",
    "    temperature=0.0,\n",
    "    max_tokens=512,\n",
    "    top_p=1,\n",
    "    frequency_penalty=0,\n",
    "    presence_penalty=0\n",
    ")\n",
    "\n",
    "answer = response.choices[0].text.strip()\n",
    "#pprint.pprint(answer)\n",
    "print(answer)"
   ]
  },
  {
   "cell_type": "markdown",
   "id": "bc76d07a",
   "metadata": {},
   "source": [
    "# Summarizer GPT-3 Deployment to Streamlit Cloud\n",
    "\n",
    " link: https://hennypurwadi-pdf-summarizer-plus-pdf-summary-pdiaev.streamlit.app/"
   ]
  },
  {
   "cell_type": "code",
   "execution_count": 2,
   "id": "591aa37b",
   "metadata": {},
   "outputs": [
    {
     "name": "stdout",
     "output_type": "stream",
     "text": [
      "Writing pdf_summary.py\n"
     ]
    }
   ],
   "source": [
    "%%writefile pdf_summary.py\n",
    "\n",
    "def main():\n",
    "    import openai\n",
    "    import streamlit as st\n",
    "    import PyPDF2\n",
    "    from PyPDF2 import PdfReader\n",
    "    import io\n",
    "\n",
    "    # Set API key as a secret\n",
    "    with open('api_key.txt', 'r') as f:\n",
    "        api_key = f.read().strip()\n",
    "    openai.api_key = api_key\n",
    "    \n",
    "    #openai.api_key = input(\"Enter your OpenAI API key: \")\n",
    "\n",
    "    # Set up Streamlit app \n",
    "    st.title(\"PDF Summary\")\n",
    "    file = st.file_uploader(\"Upload a PDF file\", type=\"pdf\")\n",
    "\n",
    "    # Generate summary if file is uploaded\n",
    "    if file is not None:\n",
    "        # Read PDF content\n",
    "        pdf_reader = PdfReader(io.BytesIO(file.read()))\n",
    "        num_pages = len(pdf_reader.pages)\n",
    "        text = ''\n",
    "        for page in range(num_pages):\n",
    "            page_obj = pdf_reader.pages[page]\n",
    "            text += page_obj.extract_text()\n",
    "\n",
    "        # Generate summary using OpenAI API\n",
    "        prompt = f\"Summarize this in 350 words, including Who is the client's name? Who is the name in medical treatment? +\\\n",
    "        Are they the same names? If different names, indicate it as suspicious: {text}\"        \n",
    "        response = openai.Completion.create(\n",
    "            engine=\"text-davinci-003\",\n",
    "            prompt=prompt,\n",
    "            temperature=0.0,\n",
    "            max_tokens=1024,\n",
    "            top_p=1,\n",
    "            frequency_penalty=0,\n",
    "            presence_penalty=0\n",
    "        )\n",
    "        answer = response.choices[0].text.strip()\n",
    "\n",
    "        # Display summary to user\n",
    "        st.write(\"Here is a summary of the PDF content:\")\n",
    "        st.write(answer)\n",
    "\n",
    "if __name__ == '__main__':\n",
    "    main()"
   ]
  },
  {
   "cell_type": "markdown",
   "id": "4d23b949",
   "metadata": {},
   "source": [
    "# Summarizer with Transformer"
   ]
  },
  {
   "cell_type": "code",
   "execution_count": 12,
   "id": "fa4a4c00",
   "metadata": {},
   "outputs": [],
   "source": [
    "import PyPDF2\n",
    "from transformers import pipeline, AutoTokenizer, AutoModelForSeq2SeqLM"
   ]
  },
  {
   "cell_type": "code",
   "execution_count": 13,
   "id": "db4eb412",
   "metadata": {},
   "outputs": [],
   "source": [
    "def load_pdf(file_path):\n",
    "    pdfFileObj = open(file_path, 'rb')\n",
    "    pdfReader = PyPDF2.PdfReader(pdfFileObj)\n",
    "    text = \"\"\n",
    "    for page in pdfReader.pages:\n",
    "        text += page.extract_text()\n",
    "    pdfFileObj.close()\n",
    "    return text\n",
    "\n",
    "file_path = 'Male Demand.pdf'\n",
    "text = load_pdf(file_path)"
   ]
  },
  {
   "cell_type": "code",
   "execution_count": 14,
   "id": "76f71dd6",
   "metadata": {},
   "outputs": [
    {
     "name": "stderr",
     "output_type": "stream",
     "text": [
      "Your max_length is set to 128, but you input_length is only 103. You might consider decreasing max_length manually, e.g. summarizer('...', max_length=51)\n",
      "Your max_length is set to 128, but you input_length is only 115. You might consider decreasing max_length manually, e.g. summarizer('...', max_length=57)\n",
      "Your max_length is set to 128, but you input_length is only 124. You might consider decreasing max_length manually, e.g. summarizer('...', max_length=62)\n",
      "Your max_length is set to 128, but you input_length is only 43. You might consider decreasing max_length manually, e.g. summarizer('...', max_length=21)\n"
     ]
    },
    {
     "name": "stdout",
     "output_type": "stream",
     "text": [
      " Ronald  Rolax's condition has now stabilized to the point th at I am now authorized to make  a settlement demand . This letter and the enclosed documents are su su su .  The Washington Rules of Evidence prohibit use of this letter and the enclosures as evidence in any  legal proceeding wit hout our express consent . If settlement fails for any reason, the letter and its enclosures are to be returned to me without retention of copies .  Documents in support of this demand: Collision Report, Medical Billing and Records . Swedish Medical Center, Radia, Inc. and Carolyn Downs Family Medical Clinic . The demand is March 8, 2023 .  Cervical sprain/strain  ................................ ................................ ...................    S13.4XXA                  :  Cervical,  Thoracic and  Lumbar sprain   strain . R51:   Cervicals,  Lumbar,  and left shoulder/arm injuries .  Left hip pain, left cervical pain and left hip pain . Discogenic cervical pain . Cervical spasms .  Ms. Holmes sought evaluation in the emergency room of MultiCare Good Samaritan Hospital and described severe chest wall pain, left shoulder  pain, and left flank pain . She was evaluated by Dr. June Burn who observed her to be anxious  with facial swelling, tenderness to her right chest wall and rib cage . X -rays revealed an acute displaced distal phalangeal tuf .  Ms. Holmes was placed in a left thumb aluminum finger splint, diagnosed with closed fracture of tuft of distal phalanx of right thumb and rib contusion . She was instructed to remain off of work through December 12, 2021 .  She discussed headaches, bruising of her ribs and breasts, pain  in her neck, right shoulder, and back, anxiety while driving, and  being unable to work secondary  to her thumb, neck and back pain . Ms. Holmes followed up with her primary care provider, Heather Hokanson,  ARNP, of Sound Family Medicine . Ms Hokanson examined her, diagnosed her with acute pain of right shoulder, injury of back of neck and left hand .  Ms. Holmes’ primary care continued to oversee her primary care over the  next nine months with treatment advice, referral s to occupational therapy and orthopedics .  Ms. Holmes reported deformity to her thumb, persistent left hand, neck, and back pain,  headaches, and post -traumatic stress symptoms while driving . She was instruction to continue chiropractic care and follow -up with the hand specialist .  Ronald  Rolax continues to have good and bad days due to flare ups of pain . The once normal and  once normal  activities, many times can only be accomplished under duress .  Ronald  Rolax has been diagnosed with a painful injury . He has to go through life with constant awareness that anything he may do would inflame this injury .  The guiding principle of tort law is to make the injured party as whole as possible through pecuniary compensation . Rolax is entitled to recover damages for all personal injuries caused by this accident .  Mr. Rolax may also recover the reasonable value of time, earnings, or salaries lost . Loss of earning capacity is a permanent diminution of ability to earn a living owing to disability .  Recovery for pain and suffering compensates for the physical and menta l discomfort caused by the injury . The amount is determined by the discretion of the jury .  Negligently inflicted mental distress is compensable. f general damages.  Bitzan v. Parisi , 88 Wn.2d 116, 558 P. 2d 775 (1977).   If there are special artistic or athletic skills, separate or added di stress compensation is appropriate.  The injured person's anxiety and worry are compensable . If your insured’s policy limits are less than our stated demand, please consid .  We make this request pursuant to Washington Administrative Code,  Section 284 -30-360(3) An appropriate reply shall be made within ten working days…on all other pertinent communications from a claimant which reasonably suggest that a response is expected .  At Law  Adj.   at Law    apologeticInsuranceInsurance . March 8, 2023   2023 .\n"
     ]
    }
   ],
   "source": [
    "# Load the tokenizer and model\n",
    "tokenizer = AutoTokenizer.from_pretrained(\"sshleifer/distilbart-cnn-12-6\")\n",
    "model = AutoModelForSeq2SeqLM.from_pretrained(\"sshleifer/distilbart-cnn-12-6\")\n",
    "summarizer = pipeline(\"summarization\", tokenizer=tokenizer, model=model)\n",
    "\n",
    "# pdfFileObj = open('settlement01.pdf', 'rb')\n",
    "# pdfReader = PyPDF2.PdfReader(pdfFileObj)\n",
    "# text = \"\"\n",
    "\n",
    "# for page in pdfReader.pages:\n",
    "#     text += page.extract_text()\n",
    "\n",
    "# Split the text into chunks and summarize each chunk\n",
    "chunks = [text[i:i+512] for i in range(0, len(text), 512)]\n",
    "summary_texts = []\n",
    "for chunk in chunks:\n",
    "    summary = summarizer(chunk, max_length=128, min_length=10, do_sample=False)[0]['summary_text']\n",
    "    summary_texts.append(summary)\n",
    "summary = ' '.join(summary_texts)\n",
    "print(summary)"
   ]
  },
  {
   "cell_type": "code",
   "execution_count": null,
   "id": "4c98f93c",
   "metadata": {},
   "outputs": [],
   "source": []
  }
 ],
 "metadata": {
  "kernelspec": {
   "display_name": "Python 3 (ipykernel)",
   "language": "python",
   "name": "python3"
  },
  "language_info": {
   "codemirror_mode": {
    "name": "ipython",
    "version": 3
   },
   "file_extension": ".py",
   "mimetype": "text/x-python",
   "name": "python",
   "nbconvert_exporter": "python",
   "pygments_lexer": "ipython3",
   "version": "3.9.13"
  },
  "varInspector": {
   "cols": {
    "lenName": 16,
    "lenType": 16,
    "lenVar": 40
   },
   "kernels_config": {
    "python": {
     "delete_cmd_postfix": "",
     "delete_cmd_prefix": "del ",
     "library": "var_list.py",
     "varRefreshCmd": "print(var_dic_list())"
    },
    "r": {
     "delete_cmd_postfix": ") ",
     "delete_cmd_prefix": "rm(",
     "library": "var_list.r",
     "varRefreshCmd": "cat(var_dic_list()) "
    }
   },
   "types_to_exclude": [
    "module",
    "function",
    "builtin_function_or_method",
    "instance",
    "_Feature"
   ],
   "window_display": false
  },
  "vscode": {
   "interpreter": {
    "hash": "365536dcbde60510dc9073d6b991cd35db2d9bac356a11f5b64279a5e6708b97"
   }
  }
 },
 "nbformat": 4,
 "nbformat_minor": 5
}
